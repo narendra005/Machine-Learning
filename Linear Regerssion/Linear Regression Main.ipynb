{
 "cells": [
  {
   "cell_type": "code",
   "execution_count": 2,
   "metadata": {},
   "outputs": [],
   "source": [
    "import matplotlib.pyplot as plt\n",
    "import pandas as pd\n",
    "import pylab as pl\n",
    "from sklearn import linear_model\n",
    "from sklearn.model_selection import train_test_split\n",
    "import numpy as np\n",
    "from sklearn import metrics\n",
    "from word2number import w2n\n",
    "import statsmodels.api as smi\n",
    "import seaborn as sns\n",
    "%matplotlib inline"
   ]
  },
  {
   "cell_type": "code",
   "execution_count": 4,
   "metadata": {},
   "outputs": [],
   "source": [
    "sal=pd.read_csv(r\"E:\\todo\\UPX\\Machine Learning\\Linear Regerssion\\csv_files\\salary.csv\")\n",
    "sal.rename(columns = {'experience':'exp','test_score(outof10)':'tscore','Interview_score(outof10)':'iscore','salary($)':'salary'},inplace=True)"
   ]
  },
  {
   "cell_type": "code",
   "execution_count": 5,
   "metadata": {},
   "outputs": [],
   "source": [
    "def Wordtonum(value):\n",
    "    if isinstance(value, (str)):\n",
    "        try:\n",
    "            return w2n.word_to_num(value) \n",
    "        except:\n",
    "            return value \n",
    "    else:\n",
    "        return value"
   ]
  },
  {
   "cell_type": "code",
   "execution_count": 6,
   "metadata": {},
   "outputs": [
    {
     "data": {
      "text/html": [
       "<div>\n",
       "<style scoped>\n",
       "    .dataframe tbody tr th:only-of-type {\n",
       "        vertical-align: middle;\n",
       "    }\n",
       "\n",
       "    .dataframe tbody tr th {\n",
       "        vertical-align: top;\n",
       "    }\n",
       "\n",
       "    .dataframe thead th {\n",
       "        text-align: right;\n",
       "    }\n",
       "</style>\n",
       "<table border=\"1\" class=\"dataframe\">\n",
       "  <thead>\n",
       "    <tr style=\"text-align: right;\">\n",
       "      <th></th>\n",
       "      <th>exp</th>\n",
       "      <th>tscore</th>\n",
       "      <th>iscore</th>\n",
       "      <th>salary</th>\n",
       "    </tr>\n",
       "  </thead>\n",
       "  <tbody>\n",
       "    <tr>\n",
       "      <th>0</th>\n",
       "      <td>NaN</td>\n",
       "      <td>8.0</td>\n",
       "      <td>9</td>\n",
       "      <td>50000</td>\n",
       "    </tr>\n",
       "    <tr>\n",
       "      <th>1</th>\n",
       "      <td>NaN</td>\n",
       "      <td>8.0</td>\n",
       "      <td>6</td>\n",
       "      <td>45000</td>\n",
       "    </tr>\n",
       "    <tr>\n",
       "      <th>2</th>\n",
       "      <td>five</td>\n",
       "      <td>6.0</td>\n",
       "      <td>7</td>\n",
       "      <td>60000</td>\n",
       "    </tr>\n",
       "    <tr>\n",
       "      <th>3</th>\n",
       "      <td>two</td>\n",
       "      <td>10.0</td>\n",
       "      <td>10</td>\n",
       "      <td>65000</td>\n",
       "    </tr>\n",
       "    <tr>\n",
       "      <th>4</th>\n",
       "      <td>seven</td>\n",
       "      <td>9.0</td>\n",
       "      <td>6</td>\n",
       "      <td>70000</td>\n",
       "    </tr>\n",
       "    <tr>\n",
       "      <th>5</th>\n",
       "      <td>three</td>\n",
       "      <td>7.0</td>\n",
       "      <td>10</td>\n",
       "      <td>62000</td>\n",
       "    </tr>\n",
       "    <tr>\n",
       "      <th>6</th>\n",
       "      <td>ten</td>\n",
       "      <td>NaN</td>\n",
       "      <td>7</td>\n",
       "      <td>72000</td>\n",
       "    </tr>\n",
       "    <tr>\n",
       "      <th>7</th>\n",
       "      <td>eleven</td>\n",
       "      <td>7.0</td>\n",
       "      <td>8</td>\n",
       "      <td>80000</td>\n",
       "    </tr>\n",
       "  </tbody>\n",
       "</table>\n",
       "</div>"
      ],
      "text/plain": [
       "      exp  tscore  iscore  salary\n",
       "0     NaN     8.0       9   50000\n",
       "1     NaN     8.0       6   45000\n",
       "2    five     6.0       7   60000\n",
       "3     two    10.0      10   65000\n",
       "4   seven     9.0       6   70000\n",
       "5   three     7.0      10   62000\n",
       "6     ten     NaN       7   72000\n",
       "7  eleven     7.0       8   80000"
      ]
     },
     "execution_count": 6,
     "metadata": {},
     "output_type": "execute_result"
    }
   ],
   "source": [
    "sal"
   ]
  },
  {
   "cell_type": "code",
   "execution_count": 7,
   "metadata": {},
   "outputs": [],
   "source": [
    "sal['exp']=sal.apply(lambda row :Wordtonum(row['exp']),axis=1)\n",
    "sal['exp'].fillna(0,inplace=True)\n",
    "sal['tscore'].fillna(round(sal['tscore'].mean()),inplace=True)\n",
    "sal[\"exp\"]= sal[\"exp\"].astype(int) \n",
    "sal[\"tscore\"]= sal[\"tscore\"].astype(int) "
   ]
  },
  {
   "cell_type": "code",
   "execution_count": 8,
   "metadata": {},
   "outputs": [
    {
     "data": {
      "text/html": [
       "<div>\n",
       "<style scoped>\n",
       "    .dataframe tbody tr th:only-of-type {\n",
       "        vertical-align: middle;\n",
       "    }\n",
       "\n",
       "    .dataframe tbody tr th {\n",
       "        vertical-align: top;\n",
       "    }\n",
       "\n",
       "    .dataframe thead th {\n",
       "        text-align: right;\n",
       "    }\n",
       "</style>\n",
       "<table border=\"1\" class=\"dataframe\">\n",
       "  <thead>\n",
       "    <tr style=\"text-align: right;\">\n",
       "      <th></th>\n",
       "      <th>exp</th>\n",
       "      <th>tscore</th>\n",
       "      <th>iscore</th>\n",
       "      <th>salary</th>\n",
       "    </tr>\n",
       "  </thead>\n",
       "  <tbody>\n",
       "    <tr>\n",
       "      <th>0</th>\n",
       "      <td>0</td>\n",
       "      <td>8</td>\n",
       "      <td>9</td>\n",
       "      <td>50000</td>\n",
       "    </tr>\n",
       "    <tr>\n",
       "      <th>1</th>\n",
       "      <td>0</td>\n",
       "      <td>8</td>\n",
       "      <td>6</td>\n",
       "      <td>45000</td>\n",
       "    </tr>\n",
       "    <tr>\n",
       "      <th>2</th>\n",
       "      <td>5</td>\n",
       "      <td>6</td>\n",
       "      <td>7</td>\n",
       "      <td>60000</td>\n",
       "    </tr>\n",
       "    <tr>\n",
       "      <th>3</th>\n",
       "      <td>2</td>\n",
       "      <td>10</td>\n",
       "      <td>10</td>\n",
       "      <td>65000</td>\n",
       "    </tr>\n",
       "    <tr>\n",
       "      <th>4</th>\n",
       "      <td>7</td>\n",
       "      <td>9</td>\n",
       "      <td>6</td>\n",
       "      <td>70000</td>\n",
       "    </tr>\n",
       "    <tr>\n",
       "      <th>5</th>\n",
       "      <td>3</td>\n",
       "      <td>7</td>\n",
       "      <td>10</td>\n",
       "      <td>62000</td>\n",
       "    </tr>\n",
       "    <tr>\n",
       "      <th>6</th>\n",
       "      <td>10</td>\n",
       "      <td>8</td>\n",
       "      <td>7</td>\n",
       "      <td>72000</td>\n",
       "    </tr>\n",
       "    <tr>\n",
       "      <th>7</th>\n",
       "      <td>11</td>\n",
       "      <td>7</td>\n",
       "      <td>8</td>\n",
       "      <td>80000</td>\n",
       "    </tr>\n",
       "  </tbody>\n",
       "</table>\n",
       "</div>"
      ],
      "text/plain": [
       "   exp  tscore  iscore  salary\n",
       "0    0       8       9   50000\n",
       "1    0       8       6   45000\n",
       "2    5       6       7   60000\n",
       "3    2      10      10   65000\n",
       "4    7       9       6   70000\n",
       "5    3       7      10   62000\n",
       "6   10       8       7   72000\n",
       "7   11       7       8   80000"
      ]
     },
     "execution_count": 8,
     "metadata": {},
     "output_type": "execute_result"
    }
   ],
   "source": [
    "df_output=sal['salary']\n",
    "output_variable='sal'\n",
    "df_input=sal[['exp', 'tscore', 'iscore']]\n",
    "feature_columns=['exp', 'tscore', 'iscore']\n",
    "sal"
   ]
  },
  {
   "cell_type": "code",
   "execution_count": 9,
   "metadata": {},
   "outputs": [
    {
     "data": {
      "text/plain": [
       "<seaborn.axisgrid.PairGrid at 0x2247e95b748>"
      ]
     },
     "execution_count": 9,
     "metadata": {},
     "output_type": "execute_result"
    },
    {
     "data": {
      "image/png": "[encoded data removed]",
      "text/plain": [
       "<Figure size 540x180 with 3 Axes>"
      ]
     },
     "metadata": {
      "needs_background": "light"
     },
     "output_type": "display_data"
    },
    {
     "data": {
      "image/png": "[encoded data removed]",
      "text/plain": [
       "<Figure size 540x180 with 3 Axes>"
      ]
     },
     "metadata": {
      "needs_background": "light"
     },
     "output_type": "display_data"
    }
   ],
   "source": [
    "###########Ploting the Variables with Output_variable here salary is output column so plotting the relation \n",
    "sns.pairplot(sal, x_vars=feature_columns, y_vars='salary', kind='reg')\n",
    "sns.pairplot(sal, x_vars=feature_columns, y_vars='salary', diag_kind='auto')"
   ]
  },
  {
   "cell_type": "code",
   "execution_count": 10,
   "metadata": {},
   "outputs": [
    {
     "name": "stdout",
     "output_type": "stream",
     "text": [
      "The No of Rows Columns in X_Train is which is based on test_size given earlier (3, 3)\n",
      "The No of Rows Columns in X_test  is which is based on test_size  given earlier (5, 3)\n",
      "The No of Rows Columns in y_train is which is based on test_size given earlier (3,)\n",
      "The No of Rows Columns in y_test  is which is based on test_size  given earlier (5,)\n"
     ]
    }
   ],
   "source": [
    "###########Running the Linear Regeression initilising Variables first \n",
    "# Statfication based on which model need to be split ####################\n",
    "reg =linear_model.LinearRegression()\n",
    "X_train, X_test, y_train, y_test = train_test_split(df_input, df_output, random_state=123,test_size=.6)\n",
    "print(\"The No of Rows Columns in X_Train is which is based on test_size given earlier\",X_train.shape)\n",
    "print(\"The No of Rows Columns in X_test  is which is based on test_size  given earlier\",X_test.shape)\n",
    "print(\"The No of Rows Columns in y_train is which is based on test_size given earlier\",y_train.shape)\n",
    "print(\"The No of Rows Columns in y_test  is which is based on test_size  given earlier\",y_test.shape)"
   ]
  },
  {
   "cell_type": "code",
   "execution_count": 11,
   "metadata": {},
   "outputs": [],
   "source": [
    "### Function to Calculate the Values Based upon Variables#############3\n",
    "def Testing_Input(feature_columns):\n",
    "    df_input=sal[feature_columns]\n",
    "    df_output=sal.salary\n",
    "    X_train, X_test, y_train, y_test = train_test_split(df_input, df_output, test_size=.6,random_state=123)\n",
    "    reg =linear_model.LinearRegression()\n",
    "    reg.fit(X_train, y_train)\n",
    "    y_pred = reg.predict(X_test)\n",
    "    return np.sqrt(metrics.mean_squared_error(y_test, y_pred))"
   ]
  },
  {
   "cell_type": "code",
   "execution_count": 12,
   "metadata": {},
   "outputs": [
    {
     "name": "stdout",
     "output_type": "stream",
     "text": [
      "5612.236554012704\n",
      "11692.563849845597\n"
     ]
    }
   ],
   "source": [
    "#########This gives mean Root Mean square error based upon one or more features passed to function\n",
    "print (Testing_Input(['exp', 'tscore', 'iscore']))\n",
    "print (Testing_Input(['exp', 'tscore']))"
   ]
  },
  {
   "cell_type": "code",
   "execution_count": 13,
   "metadata": {},
   "outputs": [
    {
     "name": "stdout",
     "output_type": "stream",
     "text": [
      "reg.intercept_=> 32438.5964912281\n",
      "[('exp', 1789.4736842105256), ('tscore', 1526.3157894736833), ('iscore', 1350.8771929824559)]\n",
      "\n",
      "##############################################################################\n",
      "RMSE Value is => 5612.236554012704\n",
      "\n",
      "##############################################################################\n"
     ]
    }
   ],
   "source": [
    "##############Train the Model ##############################\n",
    "reg =linear_model.LinearRegression()\n",
    "reg.fit(X_train,y_train)\n",
    "print(\"reg.intercept_=> %10.10f\" %(reg.intercept_))\n",
    "#print(\"reg.coef_=\",reg.coef_)\n",
    "print(list(zip(feature_columns, reg.coef_)))\n",
    "\n",
    "\n",
    "##########Test the Model on test data Set ###################\n",
    "\n",
    "y_pred=reg.predict(X_test)\n",
    "#print(\"Test Data Set Values of Coefficents:\\n\")\n",
    "#print(\"reg.intercept_=>\",reg.intercept_)\n",
    "#print(list(zip(feature_columns, reg.coef_)))\n",
    "\n",
    "\n",
    "################Rmse Value for the Data Set After Training the Data set Training a\n",
    "print(\"\\n##############################################################################\")\n",
    "rmse_val=np.sqrt(metrics.mean_squared_error(y_test, y_pred))\n",
    "print(\"RMSE Value is =>\",rmse_val)\n",
    "\n",
    "print(\"\\n##############################################################################\")\n",
    "####Just Converting the Dataframe to array for result comparision\n",
    "#df = pd.DataFrame({'Actual': y_test, 'Predicted': actual_result})\n",
    "df = pd.DataFrame({'Actual': y_test, 'Predicted': y_pred,'Error':y_test -y_pred})\n"
   ]
  },
  {
   "cell_type": "code",
   "execution_count": 14,
   "metadata": {},
   "outputs": [
    {
     "data": {
      "text/html": [
       "<div>\n",
       "<style scoped>\n",
       "    .dataframe tbody tr th:only-of-type {\n",
       "        vertical-align: middle;\n",
       "    }\n",
       "\n",
       "    .dataframe tbody tr th {\n",
       "        vertical-align: top;\n",
       "    }\n",
       "\n",
       "    .dataframe thead th {\n",
       "        text-align: right;\n",
       "    }\n",
       "</style>\n",
       "<table border=\"1\" class=\"dataframe\">\n",
       "  <thead>\n",
       "    <tr style=\"text-align: right;\">\n",
       "      <th></th>\n",
       "      <th>Actual</th>\n",
       "      <th>Predicted</th>\n",
       "      <th>Error</th>\n",
       "    </tr>\n",
       "  </thead>\n",
       "  <tbody>\n",
       "    <tr>\n",
       "      <th>0</th>\n",
       "      <td>50000</td>\n",
       "      <td>56807.017544</td>\n",
       "      <td>-6807.017544</td>\n",
       "    </tr>\n",
       "    <tr>\n",
       "      <th>1</th>\n",
       "      <td>45000</td>\n",
       "      <td>52754.385965</td>\n",
       "      <td>-7754.385965</td>\n",
       "    </tr>\n",
       "    <tr>\n",
       "      <th>3</th>\n",
       "      <td>65000</td>\n",
       "      <td>64789.473684</td>\n",
       "      <td>210.526316</td>\n",
       "    </tr>\n",
       "    <tr>\n",
       "      <th>7</th>\n",
       "      <td>80000</td>\n",
       "      <td>73614.035088</td>\n",
       "      <td>6385.964912</td>\n",
       "    </tr>\n",
       "    <tr>\n",
       "      <th>4</th>\n",
       "      <td>70000</td>\n",
       "      <td>66807.017544</td>\n",
       "      <td>3192.982456</td>\n",
       "    </tr>\n",
       "  </tbody>\n",
       "</table>\n",
       "</div>"
      ],
      "text/plain": [
       "   Actual     Predicted        Error\n",
       "0   50000  56807.017544 -6807.017544\n",
       "1   45000  52754.385965 -7754.385965\n",
       "3   65000  64789.473684   210.526316\n",
       "7   80000  73614.035088  6385.964912\n",
       "4   70000  66807.017544  3192.982456"
      ]
     },
     "execution_count": 14,
     "metadata": {},
     "output_type": "execute_result"
    }
   ],
   "source": [
    "df"
   ]
  },
  {
   "cell_type": "code",
   "execution_count": 15,
   "metadata": {},
   "outputs": [
    {
     "name": "stdout",
     "output_type": "stream",
     "text": [
      "##############################################################################\n",
      "\n",
      "Values for Coeffiencet given here is 12 10 10 for Exp tscore and iscore\n",
      "\n",
      "Salary Pridction on Test Data Set with 12,10,10 Values=> [75526.31578947]\n"
     ]
    }
   ],
   "source": [
    "############Pridicting one or more values based upon  Trained Model Pridict Values.#################\n",
    "print(\"##############################################################################\\n\")\n",
    "print(\"Values for Coeffiencet given here is 12 10 10 for Exp tscore and iscore\")\n",
    "print(\"\\nSalary Pridction on Test Data Set with 12,10,10 Values=>\",reg.predict([[8,10,10]]))"
   ]
  },
  {
   "cell_type": "code",
   "execution_count": 16,
   "metadata": {},
   "outputs": [
    {
     "name": "stdout",
     "output_type": "stream",
     "text": [
      "Value of RMSE =  5612.236554012704\n",
      "Value of Null RMSE =  12884.098726725126\n"
     ]
    }
   ],
   "source": [
    "###########Calculating Null RMSE and Compare with RMSE\n",
    "X_train, X_test, y_train, y_test = train_test_split(df_input, df_output, random_state=123,test_size=.6)\n",
    "y_null = np.zeros_like(y_test, dtype=int)\n",
    "y_null.fill(y_test.mean())\n",
    "N_RMSE=np.sqrt(metrics.mean_squared_error(y_test, y_null))\n",
    "print(\"Value of RMSE = \",rmse_val)\n",
    "print(\"Value of Null RMSE = \",N_RMSE)\n",
    "#if N_RMSE < rmse_val:print(\"Model is Not Doing Well Null RMSE Should be Greater\")\n",
    "#    else:print(\"Model is Doing Well Null RMSE is Greater than RMSE\")"
   ]
  },
  {
   "cell_type": "code",
   "execution_count": 17,
   "metadata": {},
   "outputs": [
    {
     "name": "stdout",
     "output_type": "stream",
     "text": [
      "Mean Absolute Error    : 4870.175438596494\n",
      "Mean Squared Error     : 31497199.13819639\n",
      "Root Mean Squared Error: 5612.236554012704\n"
     ]
    }
   ],
   "source": [
    "#################Calculate the Error Percentages###########\n",
    "print('Mean Absolute Error    :', metrics.mean_absolute_error(y_test, y_pred))  \n",
    "print('Mean Squared Error     :', metrics.mean_squared_error(y_test, y_pred))  \n",
    "print('Root Mean Squared Error:', np.sqrt(metrics.mean_squared_error(y_test, y_pred)))"
   ]
  },
  {
   "cell_type": "code",
   "execution_count": 18,
   "metadata": {},
   "outputs": [
    {
     "data": {
      "image/png": "[encoded data removed]",
      "text/plain": [
       "<Figure size 864x576 with 1 Axes>"
      ]
     },
     "metadata": {
      "needs_background": "light"
     },
     "output_type": "display_data"
    },
    {
     "ename": "NameError",
     "evalue": "name 'trip_data' is not defined",
     "output_type": "error",
     "traceback": [
      "\u001b[1;31m---------------------------------------------------------------------------\u001b[0m",
      "\u001b[1;31mNameError\u001b[0m                                 Traceback (most recent call last)",
      "\u001b[1;32m<ipython-input-18-c2f4fae1bad8>\u001b[0m in \u001b[0;36m<module>\u001b[1;34m\u001b[0m\n\u001b[0;32m      6\u001b[0m \u001b[0mplt\u001b[0m\u001b[1;33m.\u001b[0m\u001b[0mgrid\u001b[0m\u001b[1;33m(\u001b[0m\u001b[0mwhich\u001b[0m\u001b[1;33m=\u001b[0m\u001b[1;34m'minor'\u001b[0m\u001b[1;33m,\u001b[0m \u001b[0mlinestyle\u001b[0m\u001b[1;33m=\u001b[0m\u001b[1;34m':'\u001b[0m\u001b[1;33m,\u001b[0m \u001b[0mlinewidth\u001b[0m\u001b[1;33m=\u001b[0m\u001b[1;34m'0.5'\u001b[0m\u001b[1;33m,\u001b[0m \u001b[0mcolor\u001b[0m\u001b[1;33m=\u001b[0m\u001b[1;34m'green'\u001b[0m\u001b[1;33m)\u001b[0m\u001b[1;33m\u001b[0m\u001b[1;33m\u001b[0m\u001b[0m\n\u001b[0;32m      7\u001b[0m \u001b[0mplt\u001b[0m\u001b[1;33m.\u001b[0m\u001b[0mshow\u001b[0m\u001b[1;33m(\u001b[0m\u001b[1;33m)\u001b[0m\u001b[1;33m\u001b[0m\u001b[1;33m\u001b[0m\u001b[0m\n\u001b[1;32m----> 8\u001b[1;33m \u001b[0mtrip_data\u001b[0m\u001b[1;33m.\u001b[0m\u001b[0mhist\u001b[0m\u001b[1;33m(\u001b[0m\u001b[0mcolumn\u001b[0m\u001b[1;33m=\u001b[0m\u001b[1;34m\"Trip_distance\"\u001b[0m\u001b[1;33m)\u001b[0m\u001b[1;33m\u001b[0m\u001b[1;33m\u001b[0m\u001b[0m\n\u001b[0m\u001b[0;32m      9\u001b[0m \u001b[0msns\u001b[0m\u001b[1;33m.\u001b[0m\u001b[0mboxplot\u001b[0m\u001b[1;33m(\u001b[0m\u001b[0mdata\u001b[0m\u001b[1;33m=\u001b[0m\u001b[0mdf\u001b[0m\u001b[1;33m)\u001b[0m\u001b[1;33m\u001b[0m\u001b[1;33m\u001b[0m\u001b[0m\n",
      "\u001b[1;31mNameError\u001b[0m: name 'trip_data' is not defined"
     ]
    }
   ],
   "source": [
    "############Printing the Correlation and Cofficients\n",
    "df1 = df.head(5)\n",
    "df1.plot(kind='line',figsize=(12,8))\n",
    "plt.grid(which='major', linestyle='-', linewidth='0.5', color='green')\n",
    "plt.grid(which='minor', linestyle=':', linewidth='0.5', color='black')\n",
    "plt.grid(which='minor', linestyle=':', linewidth='0.5', color='green')\n",
    "plt.show()\n",
    "trip_data.hist(column=\"Trip_distance\")\n",
    "sns.boxplot(data=df)"
   ]
  },
  {
   "cell_type": "code",
   "execution_count": null,
   "metadata": {},
   "outputs": [],
   "source": []
  }
 ],
 "metadata": {
  "kernelspec": {
   "display_name": "Python 3",
   "language": "python",
   "name": "python3"
  },
  "language_info": {
   "codemirror_mode": {
    "name": "ipython",
    "version": 3
   },
   "file_extension": ".py",
   "mimetype": "text/x-python",
   "name": "python",
   "nbconvert_exporter": "python",
   "pygments_lexer": "ipython3",
   "version": "3.7.6"
  },
  "toc": {
   "base_numbering": 1,
   "nav_menu": {},
   "number_sections": true,
   "sideBar": true,
   "skip_h1_title": false,
   "title_cell": "Table of Contents",
   "title_sidebar": "Contents",
   "toc_cell": false,
   "toc_position": {},
   "toc_section_display": true,
   "toc_window_display": false
  }
 },
 "nbformat": 4,
 "nbformat_minor": 4
}
