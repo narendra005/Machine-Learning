{
 "cells": [
  {
   "cell_type": "code",
   "execution_count": 1,
   "metadata": {},
   "outputs": [],
   "source": [
    "import matplotlib.pyplot as plt\n",
    "import pandas as pd\n",
    "import pylab as pl\n",
    "from sklearn import linear_model\n",
    "from sklearn.model_selection import train_test_split\n",
    "import numpy as np\n",
    "from sklearn import metrics\n",
    "from word2number import w2n\n",
    "import statsmodels.api as smi\n",
    "import seaborn as sns\n",
    "%matplotlib inline"
   ]
  },
  {
   "cell_type": "code",
   "execution_count": 2,
   "metadata": {},
   "outputs": [],
   "source": [
    "sal=pd.read_csv(r\"E:\\UPX\\Machine Learning\\Linear Regerssion\\csv_files\\salary.csv\")\n",
    "sal.rename(columns = {'experience':'exp','test_score(outof10)':'tscore','Interview_score(outof10)':'iscore','salary($)':'salary'},inplace=True)"
   ]
  },
  {
   "cell_type": "code",
   "execution_count": 3,
   "metadata": {},
   "outputs": [],
   "source": [
    "def Wordtonum(value):\n",
    "    if isinstance(value, (str)):\n",
    "        try:\n",
    "            return w2n.word_to_num(value) \n",
    "        except:\n",
    "            return value \n",
    "    else:\n",
    "        return value"
   ]
  },
  {
   "cell_type": "code",
   "execution_count": null,
   "metadata": {},
   "outputs": [],
   "source": []
  },
  {
   "cell_type": "code",
   "execution_count": 4,
   "metadata": {},
   "outputs": [],
   "source": [
    "sal['exp']=sal.apply(lambda row :Wordtonum(row['exp']),axis=1)\n",
    "sal['exp'].fillna(0,inplace=True)\n",
    "sal['tscore'].fillna(round(sal['tscore'].mean()),inplace=True)\n",
    "sal[\"exp\"]= sal[\"exp\"].astype(int) \n",
    "sal[\"tscore\"]= sal[\"tscore\"].astype(int) "
   ]
  },
  {
   "cell_type": "code",
   "execution_count": null,
   "metadata": {},
   "outputs": [],
   "source": [
    "df_output=sal['salary']\n",
    "output_variable='sal'\n",
    "df_input=sal[['exp', 'tscore', 'iscore']]\n",
    "feature_columns=['exp', 'tscore', 'iscore']\n",
    "sal"
   ]
  },
  {
   "cell_type": "code",
   "execution_count": 6,
   "metadata": {},
   "outputs": [
    {
     "data": {
      "text/plain": [
       "<seaborn.axisgrid.PairGrid at 0x16fca0814c8>"
      ]
     },
     "execution_count": 6,
     "metadata": {},
     "output_type": "execute_result"
    },
    {
     "data": {
      "image/png": "[encoded data removed]",
      "text/plain": [
       "<Figure size 540x180 with 3 Axes>"
      ]
     },
     "metadata": {
      "needs_background": "light"
     },
     "output_type": "display_data"
    },
    {
     "data": {
      "image/png": "[encoded data removed]",
      "text/plain": [
       "<Figure size 540x180 with 3 Axes>"
      ]
     },
     "metadata": {
      "needs_background": "light"
     },
     "output_type": "display_data"
    }
   ],
   "source": [
    "###########Ploting the Variables with Output_variable here salary is output column so plotting the relation \n",
    "sns.pairplot(sal, x_vars=feature_columns, y_vars='salary', kind='reg')\n",
    "sns.pairplot(sal, x_vars=feature_columns, y_vars='salary', diag_kind='auto')"
   ]
  },
  {
   "cell_type": "code",
   "execution_count": 7,
   "metadata": {},
   "outputs": [
    {
     "name": "stdout",
     "output_type": "stream",
     "text": [
      "The No of Rows Columns in X_Train is which is based on test_size given earlier (3, 3)\n",
      "The No of Rows Columns in X_test  is which is based on test_size  given earlier (5, 3)\n",
      "The No of Rows Columns in y_train is which is based on test_size given earlier (3,)\n",
      "The No of Rows Columns in y_test  is which is based on test_size  given earlier (5,)\n"
     ]
    }
   ],
   "source": [
    "###########Running the Linear Regeression initilising Variables first \n",
    "reg =linear_model.LinearRegression()\n",
    "X_train, X_test, y_train, y_test = train_test_split(df_input, df_output, random_state=123,test_size=.6)\n",
    "print(\"The No of Rows Columns in X_Train is which is based on test_size given earlier\",X_train.shape)\n",
    "print(\"The No of Rows Columns in X_test  is which is based on test_size  given earlier\",X_test.shape)\n",
    "print(\"The No of Rows Columns in y_train is which is based on test_size given earlier\",y_train.shape)\n",
    "print(\"The No of Rows Columns in y_test  is which is based on test_size  given earlier\",y_test.shape)"
   ]
  },
  {
   "cell_type": "code",
   "execution_count": 8,
   "metadata": {},
   "outputs": [],
   "source": [
    "### Function to Calculate the Values Based upon Variables#############3\n",
    "def Testing_Input(feature_columns):\n",
    "    df_input=sal[feature_columns]\n",
    "    df_output=sal.salary\n",
    "    X_train, X_test, y_train, y_test = train_test_split(df_input, df_output, test_size=.6,random_state=123)\n",
    "    reg =linear_model.LinearRegression()\n",
    "    reg.fit(X_train, y_train)\n",
    "    y_pred = reg.predict(X_test)\n",
    "    return np.sqrt(metrics.mean_squared_error(y_test, y_pred))"
   ]
  },
  {
   "cell_type": "code",
   "execution_count": 11,
   "metadata": {},
   "outputs": [
    {
     "name": "stdout",
     "output_type": "stream",
     "text": [
      "5612.236554012704\n",
      "11692.563849845597\n"
     ]
    }
   ],
   "source": [
    "#########This gives mean Root Mean square error based upon one or more features passed to function\n",
    "print (Testing_Input(['exp', 'tscore', 'iscore']))\n",
    "print (Testing_Input(['exp', 'tscore']))"
   ]
  },
  {
   "cell_type": "code",
   "execution_count": 25,
   "metadata": {},
   "outputs": [
    {
     "name": "stdout",
     "output_type": "stream",
     "text": [
      "reg.intercept_=> 32438.5964912281\n",
      "[('exp', 1789.4736842105256), ('tscore', 1526.3157894736833), ('iscore', 1350.8771929824559)]\n",
      "Test Data Set Values of Coefficents:\n",
      "\n",
      "[('exp', 1789.4736842105256), ('tscore', 1526.3157894736833), ('iscore', 1350.8771929824559)]\n",
      "\n",
      "##############################################################################\n",
      "RMSE Value is => 5612.236554012704\n",
      "\n",
      "##############################################################################\n"
     ]
    }
   ],
   "source": [
    "##############Train the Model ##############################\n",
    "reg =linear_model.LinearRegression()\n",
    "reg.fit(X_train,y_train)\n",
    "print(\"reg.intercept_=> %10.10f\" %(reg.intercept_))\n",
    "#print(\"reg.coef_=\",reg.coef_)\n",
    "print(list(zip(feature_columns, reg.coef_)))\n",
    "\n",
    "\n",
    "##########Test the Model on test data Set ###################\n",
    "\n",
    "y_pred=reg.predict(X_test)\n",
    "print(\"Test Data Set Values of Coefficents:\\n\")\n",
    "#print(\"reg.intercept_=>\",reg.intercept_)\n",
    "print(list(zip(feature_columns, reg.coef_)))\n",
    "\n",
    "\n",
    "################Rmse Value for the Data Set After Training the Data set Training a\n",
    "print(\"\\n##############################################################################\")\n",
    "rmse_val=np.sqrt(metrics.mean_squared_error(y_test, y_pred))\n",
    "print(\"RMSE Value is =>\",rmse_val)\n",
    "\n",
    "print(\"\\n##############################################################################\")\n",
    "####Just Converting the Dataframe to array for result comparision\n",
    "#df = pd.DataFrame({'Actual': y_test, 'Predicted': actual_result})\n",
    "df = pd.DataFrame({'Actual': y_test, 'Predicted': y_pred,'Error':y_test -y_pred})\n"
   ]
  },
  {
   "cell_type": "code",
   "execution_count": 26,
   "metadata": {},
   "outputs": [
    {
     "name": "stdout",
     "output_type": "stream",
     "text": [
      "##############################################################################\n",
      "\n",
      "Values for Coeffiencet given here is 12 10 12 for Exp tscore and iscore\n",
      "\n",
      "Salary Pridction on Test Data Set with 12,10,10 Values=> [82684.21052632]\n"
     ]
    }
   ],
   "source": [
    "############Pridicting one or more values based upon  Trained Model Pridict Values.#################\n",
    "print(\"##############################################################################\\n\")\n",
    "print(\"Values for Coeffiencet given here is 12 10 12 for Exp tscore and iscore\")\n",
    "print(\"\\nSalary Pridction on Test Data Set with 12,10,10 Values=>\",reg.predict([[12,10,10]]))"
   ]
  },
  {
   "cell_type": "code",
   "execution_count": 28,
   "metadata": {},
   "outputs": [
    {
     "name": "stdout",
     "output_type": "stream",
     "text": [
      "Value of RMSE =  5612.236554012704\n",
      "Value of Null RMSE =  12884.098726725126\n"
     ]
    }
   ],
   "source": [
    "###########Calculating Null RMSE and Compare with RMSE\n",
    "X_train, X_test, y_train, y_test = train_test_split(df_input, df_output, random_state=123,test_size=.6)\n",
    "y_null = np.zeros_like(y_test, dtype=int)\n",
    "y_null.fill(y_test.mean())\n",
    "N_RMSE=np.sqrt(metrics.mean_squared_error(y_test, y_null))\n",
    "print(\"Value of RMSE = \",rmse_val)\n",
    "print(\"Value of Null RMSE = \",N_RMSE)\n",
    "#if N_RMSE < rmse_val:print(\"Model is Not Doing Well Null RMSE Should be Greater\")\n",
    "#    else:print(\"Model is Doing Well Null RMSE is Greater than RMSE\")"
   ]
  },
  {
   "cell_type": "code",
   "execution_count": 33,
   "metadata": {},
   "outputs": [
    {
     "name": "stdout",
     "output_type": "stream",
     "text": [
      "Mean Absolute Error    : 4870.175438596494\n",
      "Mean Squared Error     : 31497199.13819639\n",
      "Root Mean Squared Error: 5612.236554012704\n"
     ]
    },
    {
     "data": {
      "text/plain": [
       "(5, 3)"
      ]
     },
     "execution_count": 33,
     "metadata": {},
     "output_type": "execute_result"
    }
   ],
   "source": [
    "#################Calculate the Error Percentages###########\n",
    "print('Mean Absolute Error    :', metrics.mean_absolute_error(y_test, y_pred))  \n",
    "print('Mean Squared Error     :', metrics.mean_squared_error(y_test, y_pred))  \n",
    "print('Root Mean Squared Error:', np.sqrt(metrics.mean_squared_error(y_test, y_pred)))"
   ]
  },
  {
   "cell_type": "code",
   "execution_count": 1,
   "metadata": {},
   "outputs": [
    {
     "ename": "NameError",
     "evalue": "name 'df' is not defined",
     "output_type": "error",
     "traceback": [
      "\u001b[1;31m---------------------------------------------------------------------------\u001b[0m",
      "\u001b[1;31mNameError\u001b[0m                                 Traceback (most recent call last)",
      "\u001b[1;32m<ipython-input-1-0b726a9319bf>\u001b[0m in \u001b[0;36m<module>\u001b[1;34m\u001b[0m\n\u001b[0;32m      1\u001b[0m \u001b[1;31m############Printing the Correlation and Cofficients\u001b[0m\u001b[1;33m\u001b[0m\u001b[1;33m\u001b[0m\u001b[1;33m\u001b[0m\u001b[0m\n\u001b[1;32m----> 2\u001b[1;33m \u001b[0mdf\u001b[0m\u001b[1;33m.\u001b[0m\u001b[0mplot\u001b[0m\u001b[1;33m(\u001b[0m\u001b[0mkind\u001b[0m\u001b[1;33m=\u001b[0m\u001b[1;34m'line'\u001b[0m\u001b[1;33m,\u001b[0m\u001b[0mfigsize\u001b[0m\u001b[1;33m=\u001b[0m\u001b[1;33m(\u001b[0m\u001b[1;36m12\u001b[0m\u001b[1;33m,\u001b[0m\u001b[1;36m8\u001b[0m\u001b[1;33m)\u001b[0m\u001b[1;33m)\u001b[0m\u001b[1;33m\u001b[0m\u001b[1;33m\u001b[0m\u001b[0m\n\u001b[0m\u001b[0;32m      3\u001b[0m \u001b[0mplt\u001b[0m\u001b[1;33m.\u001b[0m\u001b[0mgrid\u001b[0m\u001b[1;33m(\u001b[0m\u001b[0mwhich\u001b[0m\u001b[1;33m=\u001b[0m\u001b[1;34m'major'\u001b[0m\u001b[1;33m,\u001b[0m \u001b[0mlinestyle\u001b[0m\u001b[1;33m=\u001b[0m\u001b[1;34m'-'\u001b[0m\u001b[1;33m,\u001b[0m \u001b[0mlinewidth\u001b[0m\u001b[1;33m=\u001b[0m\u001b[1;34m'0.5'\u001b[0m\u001b[1;33m,\u001b[0m \u001b[0mcolor\u001b[0m\u001b[1;33m=\u001b[0m\u001b[1;34m'green'\u001b[0m\u001b[1;33m)\u001b[0m\u001b[1;33m\u001b[0m\u001b[1;33m\u001b[0m\u001b[0m\n\u001b[0;32m      4\u001b[0m \u001b[0mplt\u001b[0m\u001b[1;33m.\u001b[0m\u001b[0mgrid\u001b[0m\u001b[1;33m(\u001b[0m\u001b[0mwhich\u001b[0m\u001b[1;33m=\u001b[0m\u001b[1;34m'minor'\u001b[0m\u001b[1;33m,\u001b[0m \u001b[0mlinestyle\u001b[0m\u001b[1;33m=\u001b[0m\u001b[1;34m':'\u001b[0m\u001b[1;33m,\u001b[0m \u001b[0mlinewidth\u001b[0m\u001b[1;33m=\u001b[0m\u001b[1;34m'0.5'\u001b[0m\u001b[1;33m,\u001b[0m \u001b[0mcolor\u001b[0m\u001b[1;33m=\u001b[0m\u001b[1;34m'black'\u001b[0m\u001b[1;33m)\u001b[0m\u001b[1;33m\u001b[0m\u001b[1;33m\u001b[0m\u001b[0m\n\u001b[0;32m      5\u001b[0m \u001b[0mplt\u001b[0m\u001b[1;33m.\u001b[0m\u001b[0mgrid\u001b[0m\u001b[1;33m(\u001b[0m\u001b[0mwhich\u001b[0m\u001b[1;33m=\u001b[0m\u001b[1;34m'minor'\u001b[0m\u001b[1;33m,\u001b[0m \u001b[0mlinestyle\u001b[0m\u001b[1;33m=\u001b[0m\u001b[1;34m':'\u001b[0m\u001b[1;33m,\u001b[0m \u001b[0mlinewidth\u001b[0m\u001b[1;33m=\u001b[0m\u001b[1;34m'0.5'\u001b[0m\u001b[1;33m,\u001b[0m \u001b[0mcolor\u001b[0m\u001b[1;33m=\u001b[0m\u001b[1;34m'green'\u001b[0m\u001b[1;33m)\u001b[0m\u001b[1;33m\u001b[0m\u001b[1;33m\u001b[0m\u001b[0m\n",
      "\u001b[1;31mNameError\u001b[0m: name 'df' is not defined"
     ]
    }
   ],
   "source": [
    "############Printing the Correlation and Cofficients\n",
    "df1 = df.head(5)\n",
    "df1.plot(kind='line',figsize=(12,8))\n",
    "plt.grid(which='major', linestyle='-', linewidth='0.5', color='green')\n",
    "plt.grid(which='minor', linestyle=':', linewidth='0.5', color='black')\n",
    "plt.grid(which='minor', linestyle=':', linewidth='0.5', color='green')\n",
    "plt.show()"
   ]
  },
  {
   "cell_type": "code",
   "execution_count": null,
   "metadata": {},
   "outputs": [],
   "source": []
  }
 ],
 "metadata": {
  "kernelspec": {
   "display_name": "Python 3",
   "language": "python",
   "name": "python3"
  },
  "language_info": {
   "codemirror_mode": {
    "name": "ipython",
    "version": 3
   },
   "file_extension": ".py",
   "mimetype": "text/x-python",
   "name": "python",
   "nbconvert_exporter": "python",
   "pygments_lexer": "ipython3",
   "version": "3.7.4"
  },
  "toc": {
   "base_numbering": 1,
   "nav_menu": {},
   "number_sections": true,
   "sideBar": true,
   "skip_h1_title": false,
   "title_cell": "Table of Contents",
   "title_sidebar": "Contents",
   "toc_cell": false,
   "toc_position": {},
   "toc_section_display": true,
   "toc_window_display": false
  }
 },
 "nbformat": 4,
 "nbformat_minor": 4
}
