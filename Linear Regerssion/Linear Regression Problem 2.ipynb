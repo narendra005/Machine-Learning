{
 "cells": [
  {
   "cell_type": "code",
   "execution_count": 6,
   "metadata": {},
   "outputs": [],
   "source": [
    "import matplotlib.pyplot as plt\n",
    "import pandas as pd\n",
    "import pylab as pl\n",
    "from sklearn import linear_model\n",
    "from sklearn.model_selection import train_test_split\n",
    "import numpy as np\n",
    "%matplotlib inline"
   ]
  },
  {
   "cell_type": "code",
   "execution_count": 7,
   "metadata": {},
   "outputs": [
    {
     "data": {
      "text/html": [
       "<div>\n",
       "<style scoped>\n",
       "    .dataframe tbody tr th:only-of-type {\n",
       "        vertical-align: middle;\n",
       "    }\n",
       "\n",
       "    .dataframe tbody tr th {\n",
       "        vertical-align: top;\n",
       "    }\n",
       "\n",
       "    .dataframe thead th {\n",
       "        text-align: right;\n",
       "    }\n",
       "</style>\n",
       "<table border=\"1\" class=\"dataframe\">\n",
       "  <thead>\n",
       "    <tr style=\"text-align: right;\">\n",
       "      <th></th>\n",
       "      <th>area</th>\n",
       "      <th>bedroom</th>\n",
       "      <th>age</th>\n",
       "      <th>price</th>\n",
       "    </tr>\n",
       "  </thead>\n",
       "  <tbody>\n",
       "    <tr>\n",
       "      <th>0</th>\n",
       "      <td>2600</td>\n",
       "      <td>3.0</td>\n",
       "      <td>20</td>\n",
       "      <td>550000</td>\n",
       "    </tr>\n",
       "    <tr>\n",
       "      <th>1</th>\n",
       "      <td>3000</td>\n",
       "      <td>4.0</td>\n",
       "      <td>15</td>\n",
       "      <td>565000</td>\n",
       "    </tr>\n",
       "    <tr>\n",
       "      <th>2</th>\n",
       "      <td>3200</td>\n",
       "      <td>NaN</td>\n",
       "      <td>18</td>\n",
       "      <td>610000</td>\n",
       "    </tr>\n",
       "    <tr>\n",
       "      <th>3</th>\n",
       "      <td>3600</td>\n",
       "      <td>3.0</td>\n",
       "      <td>30</td>\n",
       "      <td>595000</td>\n",
       "    </tr>\n",
       "    <tr>\n",
       "      <th>4</th>\n",
       "      <td>4000</td>\n",
       "      <td>5.0</td>\n",
       "      <td>8</td>\n",
       "      <td>760000</td>\n",
       "    </tr>\n",
       "  </tbody>\n",
       "</table>\n",
       "</div>"
      ],
      "text/plain": [
       "   area  bedroom  age   price\n",
       "0  2600      3.0   20  550000\n",
       "1  3000      4.0   15  565000\n",
       "2  3200      NaN   18  610000\n",
       "3  3600      3.0   30  595000\n",
       "4  4000      5.0    8  760000"
      ]
     },
     "execution_count": 7,
     "metadata": {},
     "output_type": "execute_result"
    }
   ],
   "source": [
    "house=pd.read_csv(r\"E:\\UPX\\Machine Learning\\Linear Regerssion\\housing.csv\")\n",
    "house"
   ]
  },
  {
   "cell_type": "code",
   "execution_count": 17,
   "metadata": {},
   "outputs": [],
   "source": [
    "house['bedroom'].fillna(3,inplace=True)\n",
    "house['bedroom']=house['bedroom'].astype(int)"
   ]
  },
  {
   "cell_type": "code",
   "execution_count": 42,
   "metadata": {},
   "outputs": [],
   "source": [
    "df_output=house['price']\n",
    "df_input=house[['area', 'bedroom', 'age']]\n",
    "feature_columns=['area', 'bedroom', 'age', 'price']\n",
    "X=house[['area', 'bedroom', 'age']]\n",
    "y=house.price"
   ]
  },
  {
   "cell_type": "code",
   "execution_count": 33,
   "metadata": {},
   "outputs": [
    {
     "name": "stdout",
     "output_type": "stream",
     "text": [
      "The No of Rows Columns in X_Train is which is based on test_size given earlier (1, 3)\n",
      "The No of Rows Columns in X_test is which is based on test_size given earlier (4, 3)\n",
      "The No of Rows Columns in y_train is which is based on test_size given earlier (1,)\n",
      "The No of Rows Columns in y_test is which is based on test_size given earlier (4,)\n"
     ]
    }
   ],
   "source": [
    "reg =linear_model.LinearRegression()\n",
    "X_train, X_test, y_train, y_test = train_test_split(df_input, df_output, random_state=123,test_size=.8)\n",
    "print(\"The No of Rows Columns in X_Train is which is based on test_size given earlier\",X_train.shape)\n",
    "print(\"The No of Rows Columns in X_test is which is based on test_size given earlier\",X_test.shape)\n",
    "print(\"The No of Rows Columns in y_train is which is based on test_size given earlier\",y_train.shape)\n",
    "print(\"The No of Rows Columns in y_test is which is based on test_size given earlier\",y_test.shape)"
   ]
  },
  {
   "cell_type": "code",
   "execution_count": 47,
   "metadata": {},
   "outputs": [
    {
     "name": "stdout",
     "output_type": "stream",
     "text": [
      "reg.coef=> [   137.25 -26025.    -6825.  ] reg.intercept_=> 383725.00000000006\n"
     ]
    }
   ],
   "source": [
    "#reg.fit(house[['area', 'bedroom', 'age']],house.price)\n",
    "reg.fit(X,y)\n",
    "print(\"reg.coef=>\",reg.coef_,\"reg.intercept_=>\",reg.intercept_)"
   ]
  },
  {
   "cell_type": "code",
   "execution_count": 60,
   "metadata": {},
   "outputs": [
    {
     "name": "stdout",
     "output_type": "stream",
     "text": [
      "[333175.]\n",
      "[444400.]\n",
      "[555625.]\n"
     ]
    },
    {
     "data": {
      "text/plain": [
       "array([589000., 595000., 748000., 526000.])"
      ]
     },
     "execution_count": 60,
     "metadata": {},
     "output_type": "execute_result"
    }
   ],
   "source": [
    "## Pridicting Price based on input varible 3000 size ,3 bedroom and 40years \n",
    "print(reg.predict([[2000,2,40]]))\n",
    "print(reg.predict([[3000,3,40]]))\n",
    "print(reg.predict([[4000,4,40]]))\n",
    "a=reg.predict(X_test)\n",
    "a"
   ]
  },
  {
   "cell_type": "code",
   "execution_count": 52,
   "metadata": {},
   "outputs": [
    {
     "data": {
      "text/plain": [
       "[('area', 137.24999999999997),\n",
       " ('bedroom', -26024.99999999998),\n",
       " ('age', -6825.0)]"
      ]
     },
     "execution_count": 52,
     "metadata": {},
     "output_type": "execute_result"
    }
   ],
   "source": []
  },
  {
   "cell_type": "code",
   "execution_count": null,
   "metadata": {},
   "outputs": [],
   "source": [
    "#######Interpreting the Co-Officient Values######################\n",
    "# With Other Feaautes same 1 sqft area has 137.24999999999997 impact on price\n",
    "# With Other Feaautes same 1Bedroom  has -26024.99999999998 impact on price\n",
    "# With Other Feaautes same 1 Year  has  -6825 impact on price "
   ]
  },
  {
   "cell_type": "code",
   "execution_count": 62,
   "metadata": {},
   "outputs": [
    {
     "name": "stdout",
     "output_type": "stream",
     "text": [
      "reg.coef=> [   137.25 -26025.    -6825.  ] reg.intercept_=> 383725.00000000006\n",
      "[('area', 137.24999999999997), ('bedroom', -26024.99999999998), ('age', -6825.0)]\n",
      "[555625.]\n"
     ]
    }
   ],
   "source": [
    "print(\"reg.coef=>\",reg.coef_,\"reg.intercept_=>\",reg.intercept_)\n",
    "print(list(zip(feature_columns, reg.coef_)))\n",
    "print(reg.predict([[4000,4,40]]))"
   ]
  },
  {
   "cell_type": "code",
   "execution_count": 63,
   "metadata": {},
   "outputs": [
    {
     "data": {
      "text/plain": [
       "555625.0"
      ]
     },
     "execution_count": 63,
     "metadata": {},
     "output_type": "execute_result"
    }
   ],
   "source": [
    "### Lets Calculate the Prce using co-officents last variable is b in y=mx+b for continous variable \n",
    "## y= mx0 + mx1 + mx2\n",
    "4000*137.25 + 4*-26025 + 40* -6825 + 383725.00000000006"
   ]
  },
  {
   "cell_type": "code",
   "execution_count": 64,
   "metadata": {},
   "outputs": [
    {
     "data": {
      "text/plain": [
       "324000000.0"
      ]
     },
     "execution_count": 64,
     "metadata": {},
     "output_type": "execute_result"
    }
   ],
   "source": [
    "########a will have pridicted results for X_test values.############\n",
    "a=reg.predict(X_test)\n",
    "####Just Converting the Dataframe to array for result comparision\n",
    "Y_test=np.array(y_test.values)\n",
    "######### Calculate the Mean Square Error \n",
    "np.mean((a-y_test)**2)\n",
    "for no in range(0,len(a)):\n",
    "    print(\"Pridcited \",a[no], \" Actual Value\",Y_test[no],\"Error Value=>\",a[no]-Y_test[no])"
   ]
  },
  {
   "cell_type": "code",
   "execution_count": 71,
   "metadata": {},
   "outputs": [
    {
     "name": "stdout",
     "output_type": "stream",
     "text": [
      "Pridcited  589000.0  Actual Value 565000 Error Value=> 24000.0\n",
      "Pridcited  595000.0  Actual Value 595000 Error Value=> 0.0\n",
      "Pridcited  748000.0  Actual Value 760000 Error Value=> -12000.0\n",
      "Pridcited  526000.0  Actual Value 550000 Error Value=> -24000.0\n"
     ]
    }
   ],
   "source": [
    "#######Comparing Actual to Pridcitd value with Actual Values\n"
   ]
  },
  {
   "cell_type": "code",
   "execution_count": null,
   "metadata": {},
   "outputs": [],
   "source": []
  }
 ],
 "metadata": {
  "kernelspec": {
   "display_name": "Python 3",
   "language": "python",
   "name": "python3"
  },
  "language_info": {
   "codemirror_mode": {
    "name": "ipython",
    "version": 3
   },
   "file_extension": ".py",
   "mimetype": "text/x-python",
   "name": "python",
   "nbconvert_exporter": "python",
   "pygments_lexer": "ipython3",
   "version": "3.7.4"
  },
  "toc": {
   "base_numbering": 1,
   "nav_menu": {},
   "number_sections": true,
   "sideBar": true,
   "skip_h1_title": false,
   "title_cell": "Table of Contents",
   "title_sidebar": "Contents",
   "toc_cell": false,
   "toc_position": {},
   "toc_section_display": true,
   "toc_window_display": false
  }
 },
 "nbformat": 4,
 "nbformat_minor": 4
}
