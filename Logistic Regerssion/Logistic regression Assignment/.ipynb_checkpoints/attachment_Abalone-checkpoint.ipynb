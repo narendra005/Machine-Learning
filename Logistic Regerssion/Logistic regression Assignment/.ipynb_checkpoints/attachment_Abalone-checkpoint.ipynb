{
 "cells": [
  {
   "cell_type": "code",
   "execution_count": null,
   "metadata": {},
   "outputs": [],
   "source": [
    "import pandas as pd\n",
    "from sklearn.linear_model import LogisticRegression\n",
    "from sklearn.cross_validation import train_test_split\n",
    "from sklearn.metrics import accuracy_score,confusion_matrix,classification_report"
   ]
  },
  {
   "cell_type": "code",
   "execution_count": null,
   "metadata": {},
   "outputs": [],
   "source": [
    "df=pd.read_csv(\"abalone.csv\")\n",
    "## Viewing first 4 rows\n",
    "df.head(4)"
   ]
  },
  {
   "cell_type": "code",
   "execution_count": null,
   "metadata": {},
   "outputs": [],
   "source": [
    "## Variable selection or feature selection\n",
    "y=df['Sex']\n",
    "del df['Sex']\n",
    "x=df\n",
    "print(X)\n",
    "print(type(y))"
   ]
  },
  {
   "cell_type": "code",
   "execution_count": 4,
   "metadata": {},
   "outputs": [
    {
     "name": "stdout",
     "output_type": "stream",
     "text": [
      "(3341, 8)\n",
      "(836,)\n"
     ]
    }
   ],
   "source": [
    "## splitting the dataset into train & test set\n",
    "x_train,x_test,y_train,y_test=train_test_split(x,y,test_size=0.20,random_state=False)\n",
    "print(x_train.shape)\n",
    "print(y_test.shape)\n"
   ]
  },
  {
   "cell_type": "code",
   "execution_count": 5,
   "metadata": {},
   "outputs": [
    {
     "name": "stdout",
     "output_type": "stream",
     "text": [
      "LogisticRegression(C=1.0, class_weight=None, dual=False, fit_intercept=True,\n",
      "          intercept_scaling=1, max_iter=100, multi_class='ovr', n_jobs=1,\n",
      "          penalty='l2', random_state=None, solver='liblinear', tol=0.0001,\n",
      "          verbose=0, warm_start=False)\n"
     ]
    }
   ],
   "source": [
    "## Building the model\n",
    "log_reg=LogisticRegression()\n",
    "log_model=log_reg.fit(x_train,y_train)\n",
    "print(log_model)"
   ]
  },
  {
   "cell_type": "code",
   "execution_count": 6,
   "metadata": {},
   "outputs": [
    {
     "name": "stdout",
     "output_type": "stream",
     "text": [
      "0.5574162679425837\n",
      "[[ 64  46 139]\n",
      " [ 12 237  42]\n",
      " [ 52  79 165]]\n",
      "             precision    recall  f1-score   support\n",
      "\n",
      "          F       0.50      0.26      0.34       249\n",
      "          I       0.65      0.81      0.73       291\n",
      "          M       0.48      0.56      0.51       296\n",
      "\n",
      "avg / total       0.55      0.56      0.54       836\n",
      "\n"
     ]
    }
   ],
   "source": [
    "## Prediction with logistic regression model\n",
    "log_prd=log_model.predict(x_test)\n",
    "print(accuracy_score(y_test,log_prd))\n",
    "print(confusion_matrix(y_test,log_prd))\n",
    "print(classification_report(y_test,log_prd))"
   ]
  },
  {
   "cell_type": "markdown",
   "metadata": {},
   "source": [
    "## Grid Search Cross Validation"
   ]
  },
  {
   "cell_type": "code",
   "execution_count": 7,
   "metadata": {
    "collapsed": true
   },
   "outputs": [],
   "source": [
    "from sklearn.model_selection import GridSearchCV"
   ]
  },
  {
   "cell_type": "code",
   "execution_count": 8,
   "metadata": {
    "collapsed": true
   },
   "outputs": [],
   "source": [
    "params={\"C\":[0.001,0.01,0.1,1,10,100,1000,10000],\"penalty\":('l1','l2'),\"max_iter\":[50,100,150,200]}"
   ]
  },
  {
   "cell_type": "code",
   "execution_count": 15,
   "metadata": {
    "collapsed": true
   },
   "outputs": [],
   "source": [
    "grid_log=GridSearchCV(log_reg,params,cv=10)"
   ]
  },
  {
   "cell_type": "code",
   "execution_count": 16,
   "metadata": {
    "collapsed": true
   },
   "outputs": [],
   "source": [
    "grid_log_model=grid_log.fit(x_train,y_train)"
   ]
  },
  {
   "cell_type": "code",
   "execution_count": 11,
   "metadata": {},
   "outputs": [
    {
     "data": {
      "text/plain": [
       "{'C': 100, 'max_iter': 150, 'penalty': 'l1'}"
      ]
     },
     "execution_count": 11,
     "metadata": {},
     "output_type": "execute_result"
    }
   ],
   "source": [
    "grid_log_model.best_params_"
   ]
  },
  {
   "cell_type": "code",
   "execution_count": 13,
   "metadata": {
    "collapsed": true
   },
   "outputs": [],
   "source": [
    "grid_log_prediction=grid_log_model.predict(x_test)"
   ]
  },
  {
   "cell_type": "code",
   "execution_count": 14,
   "metadata": {},
   "outputs": [
    {
     "name": "stdout",
     "output_type": "stream",
     "text": [
      "0.5550239234449761\n",
      "[[ 93  45 111]\n",
      " [ 20 238  33]\n",
      " [ 86  77 133]]\n",
      "             precision    recall  f1-score   support\n",
      "\n",
      "          F       0.47      0.37      0.42       249\n",
      "          I       0.66      0.82      0.73       291\n",
      "          M       0.48      0.45      0.46       296\n",
      "\n",
      "avg / total       0.54      0.56      0.54       836\n",
      "\n"
     ]
    }
   ],
   "source": [
    "print(accuracy_score(y_test,grid_log_prediction))\n",
    "print(confusion_matrix(y_test,grid_log_prediction))\n",
    "print(classification_report(y_test,grid_log_prediction))"
   ]
  },
  {
   "cell_type": "code",
   "execution_count": null,
   "metadata": {
    "collapsed": true
   },
   "outputs": [],
   "source": []
  }
 ],
 "metadata": {
  "kernelspec": {
   "display_name": "Python 3",
   "language": "python",
   "name": "python3"
  },
  "language_info": {
   "codemirror_mode": {
    "name": "ipython",
    "version": 3
   },
   "file_extension": ".py",
   "mimetype": "text/x-python",
   "name": "python",
   "nbconvert_exporter": "python",
   "pygments_lexer": "ipython3",
   "version": "3.7.6"
  },
  "toc": {
   "base_numbering": 1,
   "nav_menu": {},
   "number_sections": true,
   "sideBar": true,
   "skip_h1_title": false,
   "title_cell": "Table of Contents",
   "title_sidebar": "Contents",
   "toc_cell": false,
   "toc_position": {},
   "toc_section_display": true,
   "toc_window_display": false
  }
 },
 "nbformat": 4,
 "nbformat_minor": 2
}
