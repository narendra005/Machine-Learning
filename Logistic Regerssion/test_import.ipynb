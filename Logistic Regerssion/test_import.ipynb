{
 "cells": [
  {
   "cell_type": "code",
   "execution_count": 26,
   "metadata": {},
   "outputs": [],
   "source": [
    "import pandas as pd\n",
    "import json\n",
    "#df=pd.read_csv(u\"https://api.rootnet.in/covid19-in/stats/latest\")\n",
    "df=pd.read_csv(\"exceltest.csv\")"
   ]
  },
  {
   "cell_type": "code",
   "execution_count": 46,
   "metadata": {},
   "outputs": [
    {
     "name": "stdout",
     "output_type": "stream",
     "text": [
      "dict_keys(['Unnamed: 0', 'success', 'data', 'lastRefreshed', 'lastOriginUpdate'])\n",
      "\"[{'loc': 'Andaman and Nicobar Islands', 'confirmedCasesIndian': 14, 'discharged': 11, 'deaths': 0, 'confirmedCasesForeign': 0, 'totalConfirmed': 14}, {'loc': 'Andhra Pradesh', 'confirmedCasesIndian': 603, 'discharged': 42, 'deaths': 15, 'confirmedCasesForeign': 0, 'totalConfirmed': 603}, {'loc': 'Arunachal Pradesh', 'confirmedCasesIndian': 1, 'discharged': 0, 'deaths': 0, 'confirmedCasesForeign': 0, 'totalConfirmed': 1}, {'loc': 'Assam', 'confirmedCasesIndian': 35, 'discharged': 12, 'deaths': 1, 'confirmedCasesForeign': 0, 'totalConfirmed': 35}, {'loc': 'Bihar', 'confirmedCasesIndian': 86, 'discharged': 37, 'deaths': 2, 'confirmedCasesForeign': 0, 'totalConfirmed': 86}, {'loc': 'Chandigarh', 'confirmedCasesIndian': 23, 'discharged': 10, 'deaths': 0, 'confirmedCasesForeign': 0, 'totalConfirmed': 23}, {'loc': 'Chhattisgarh', 'confirmedCasesIndian': 36, 'discharged': 24, 'deaths': 0, 'confirmedCasesForeign': 0, 'totalConfirmed': 36}, {'loc': 'Delhi', 'confirmedCasesIndian': 1892, 'discharged': 72, 'deaths': 42, 'confirmedCasesForeign': 1, 'totalConfirmed': 1893}, {'loc': 'Goa', 'confirmedCasesIndian': 6, 'discharged': 6, 'deaths': 0, 'confirmedCasesForeign': 1, 'totalConfirmed': 7}, {'loc': 'Gujarat', 'confirmedCasesIndian': 1375, 'discharged': 93, 'deaths': 53, 'confirmedCasesForeign': 1, 'totalConfirmed': 1376}, {'loc': 'Haryana', 'confirmedCasesIndian': 211, 'discharged': 43, 'deaths': 3, 'confirmedCasesForeign': 14, 'totalConfirmed': 225}, {'loc': 'Himachal Pradesh', 'confirmedCasesIndian': 39, 'discharged': 16, 'deaths': 1, 'confirmedCasesForeign': 0, 'totalConfirmed': 39}, {'loc': 'Jammu and Kashmir', 'confirmedCasesIndian': 341, 'discharged': 51, 'deaths': 5, 'confirmedCasesForeign': 0, 'totalConfirmed': 341}, {'loc': 'Jharkhand', 'confirmedCasesIndian': 34, 'discharged': 0, 'deaths': 2, 'confirmedCasesForeign': 0, 'totalConfirmed': 34}, {'loc': 'Karnataka', 'confirmedCasesIndian': 384, 'discharged': 104, 'deaths': 14, 'confirmedCasesForeign': 0, 'totalConfirmed': 384}, {'loc': 'Kerala', 'confirmedCasesIndian': 392, 'discharged': 257, 'deaths': 3, 'confirmedCasesForeign': 8, 'totalConfirmed': 400}, {'loc': 'Ladakh', 'confirmedCasesIndian': 18, 'discharged': 14, 'deaths': 0, 'confirmedCasesForeign': 0, 'totalConfirmed': 18}, {'loc': 'Madhya Pradesh', 'confirmedCasesIndian': 1407, 'discharged': 127, 'deaths': 70, 'confirmedCasesForeign': 0, 'totalConfirmed': 1407}, {'loc': 'Maharashtra', 'confirmedCasesIndian': 3648, 'discharged': 365, 'deaths': 211, 'confirmedCasesForeign': 3, 'totalConfirmed': 3651}, {'loc': 'Manipur', 'confirmedCasesIndian': 2, 'discharged': 1, 'deaths': 0, 'confirmedCasesForeign': 0, 'totalConfirmed': 2}, {'loc': 'Meghalaya', 'confirmedCasesIndian': 11, 'discharged': 0, 'deaths': 1, 'confirmedCasesForeign': 0, 'totalConfirmed': 11}, {'loc': 'Mizoram', 'confirmedCasesIndian': 1, 'discharged': 0, 'deaths': 0, 'confirmedCasesForeign': 0, 'totalConfirmed': 1}, {'loc': 'Nagaland#', 'confirmedCasesIndian': 0, 'discharged': 0, 'deaths': 0, 'confirmedCasesForeign': 0, 'totalConfirmed': 0}, {'loc': 'Odisha', 'confirmedCasesIndian': 61, 'discharged': 24, 'deaths': 1, 'confirmedCasesForeign': 0, 'totalConfirmed': 61}, {'loc': 'Puducherry', 'confirmedCasesIndian': 7, 'discharged': 3, 'deaths': 0, 'confirmedCasesForeign': 0, 'totalConfirmed': 7}, {'loc': 'Punjab', 'confirmedCasesIndian': 202, 'discharged': 27, 'deaths': 13, 'confirmedCasesForeign': 0, 'totalConfirmed': 202}, {'loc': 'Rajasthan', 'confirmedCasesIndian': 1349, 'discharged': 183, 'deaths': 11, 'confirmedCasesForeign': 2, 'totalConfirmed': 1351}, {'loc': 'Tamil Nadu', 'confirmedCasesIndian': 1366, 'discharged': 365, 'deaths': 15, 'confirmedCasesForeign': 6, 'totalConfirmed': 1372}, {'loc': 'Telengana', 'confirmedCasesIndian': 799, 'discharged': 186, 'deaths': 18, 'confirmedCasesForeign': 10, 'totalConfirmed': 809}, {'loc': 'Tripura', 'confirmedCasesIndian': 2, 'discharged': 1, 'deaths': 0, 'confirmedCasesForeign': 0, 'totalConfirmed': 2}, {'loc': 'Uttarakhand', 'confirmedCasesIndian': 41, 'discharged': 9, 'deaths': 0, 'confirmedCasesForeign': 1, 'totalConfirmed': 42}, {'loc': 'Uttar Pradesh', 'confirmedCasesIndian': 968, 'discharged': 86, 'deaths': 14, 'confirmedCasesForeign': 1, 'totalConfirmed': 969}, {'loc': 'West Bengal', 'confirmedCasesIndian': 310, 'discharged': 62, 'deaths': 12, 'confirmedCasesForeign': 0, 'totalConfirmed': 310}]\"\n"
     ]
    }
   ],
   "source": [
    "import json\n",
    "data_dict = df.to_dict()\n",
    "app_json = json.dumps(data_dict)\n",
    "print(data_dict.keys())\n",
    "test1=data_dict['data'][0]\n",
    "y=json.dumps(test1)\n",
    "print(y)"
   ]
  },
  {
   "cell_type": "code",
   "execution_count": 74,
   "metadata": {},
   "outputs": [
    {
     "name": "stdout",
     "output_type": "stream",
     "text": [
      "dict_keys(['success', 'data', 'lastRefreshed', 'lastOriginUpdate'])\n",
      "summary\n",
      "regional\n"
     ]
    }
   ],
   "source": [
    "import json \n",
    "   \n",
    "# Opening JSON file \n",
    "f = open('import.json',) \n",
    "   \n",
    "# returns JSON object as  \n",
    "# a dictionary \n",
    "data = json.load(f) \n",
    "print (data.keys())\n",
    "# Iterating through the json \n",
    "# list \n",
    "for i in data['data']: \n",
    "   # for k in data['data']['regional']: \n",
    "    \n",
    "    print(i)\n",
    "\n",
    "\n",
    "f.close() "
   ]
  },
  {
   "cell_type": "code",
   "execution_count": 53,
   "metadata": {},
   "outputs": [
    {
     "ename": "JSONDecodeError",
     "evalue": "Expecting property name enclosed in double quotes: line 1 column 3 (char 2)",
     "output_type": "error",
     "traceback": [
      "\u001b[1;31m---------------------------------------------------------------------------\u001b[0m",
      "\u001b[1;31mJSONDecodeError\u001b[0m                           Traceback (most recent call last)",
      "\u001b[1;32m<ipython-input-53-f95fa8c7bf3c>\u001b[0m in \u001b[0;36m<module>\u001b[1;34m\u001b[0m\n\u001b[0;32m      3\u001b[0m \u001b[1;31m#app_json = json.dumps(data_dict)\u001b[0m\u001b[1;33m\u001b[0m\u001b[1;33m\u001b[0m\u001b[1;33m\u001b[0m\u001b[0m\n\u001b[0;32m      4\u001b[0m \u001b[0mtest1\u001b[0m\u001b[1;33m=\u001b[0m\u001b[0mdata_dict\u001b[0m\u001b[1;33m[\u001b[0m\u001b[1;34m'data'\u001b[0m\u001b[1;33m]\u001b[0m\u001b[1;33m[\u001b[0m\u001b[1;36m0\u001b[0m\u001b[1;33m]\u001b[0m\u001b[1;33m\u001b[0m\u001b[1;33m\u001b[0m\u001b[0m\n\u001b[1;32m----> 5\u001b[1;33m \u001b[0mdictionary_data\u001b[0m \u001b[1;33m=\u001b[0m \u001b[0mjson\u001b[0m\u001b[1;33m.\u001b[0m\u001b[0mloads\u001b[0m\u001b[1;33m(\u001b[0m\u001b[0mtest1\u001b[0m\u001b[1;33m)\u001b[0m\u001b[1;33m\u001b[0m\u001b[1;33m\u001b[0m\u001b[0m\n\u001b[0m\u001b[0;32m      6\u001b[0m \u001b[0mdictionary_data\u001b[0m\u001b[1;33m\u001b[0m\u001b[1;33m\u001b[0m\u001b[0m\n",
      "\u001b[1;32mC:\\Programdata\\Anaconda3\\lib\\json\\__init__.py\u001b[0m in \u001b[0;36mloads\u001b[1;34m(s, encoding, cls, object_hook, parse_float, parse_int, parse_constant, object_pairs_hook, **kw)\u001b[0m\n\u001b[0;32m    346\u001b[0m             \u001b[0mparse_int\u001b[0m \u001b[1;32mis\u001b[0m \u001b[1;32mNone\u001b[0m \u001b[1;32mand\u001b[0m \u001b[0mparse_float\u001b[0m \u001b[1;32mis\u001b[0m \u001b[1;32mNone\u001b[0m \u001b[1;32mand\u001b[0m\u001b[1;33m\u001b[0m\u001b[1;33m\u001b[0m\u001b[0m\n\u001b[0;32m    347\u001b[0m             parse_constant is None and object_pairs_hook is None and not kw):\n\u001b[1;32m--> 348\u001b[1;33m         \u001b[1;32mreturn\u001b[0m \u001b[0m_default_decoder\u001b[0m\u001b[1;33m.\u001b[0m\u001b[0mdecode\u001b[0m\u001b[1;33m(\u001b[0m\u001b[0ms\u001b[0m\u001b[1;33m)\u001b[0m\u001b[1;33m\u001b[0m\u001b[1;33m\u001b[0m\u001b[0m\n\u001b[0m\u001b[0;32m    349\u001b[0m     \u001b[1;32mif\u001b[0m \u001b[0mcls\u001b[0m \u001b[1;32mis\u001b[0m \u001b[1;32mNone\u001b[0m\u001b[1;33m:\u001b[0m\u001b[1;33m\u001b[0m\u001b[1;33m\u001b[0m\u001b[0m\n\u001b[0;32m    350\u001b[0m         \u001b[0mcls\u001b[0m \u001b[1;33m=\u001b[0m \u001b[0mJSONDecoder\u001b[0m\u001b[1;33m\u001b[0m\u001b[1;33m\u001b[0m\u001b[0m\n",
      "\u001b[1;32mC:\\Programdata\\Anaconda3\\lib\\json\\decoder.py\u001b[0m in \u001b[0;36mdecode\u001b[1;34m(self, s, _w)\u001b[0m\n\u001b[0;32m    335\u001b[0m \u001b[1;33m\u001b[0m\u001b[0m\n\u001b[0;32m    336\u001b[0m         \"\"\"\n\u001b[1;32m--> 337\u001b[1;33m         \u001b[0mobj\u001b[0m\u001b[1;33m,\u001b[0m \u001b[0mend\u001b[0m \u001b[1;33m=\u001b[0m \u001b[0mself\u001b[0m\u001b[1;33m.\u001b[0m\u001b[0mraw_decode\u001b[0m\u001b[1;33m(\u001b[0m\u001b[0ms\u001b[0m\u001b[1;33m,\u001b[0m \u001b[0midx\u001b[0m\u001b[1;33m=\u001b[0m\u001b[0m_w\u001b[0m\u001b[1;33m(\u001b[0m\u001b[0ms\u001b[0m\u001b[1;33m,\u001b[0m \u001b[1;36m0\u001b[0m\u001b[1;33m)\u001b[0m\u001b[1;33m.\u001b[0m\u001b[0mend\u001b[0m\u001b[1;33m(\u001b[0m\u001b[1;33m)\u001b[0m\u001b[1;33m)\u001b[0m\u001b[1;33m\u001b[0m\u001b[1;33m\u001b[0m\u001b[0m\n\u001b[0m\u001b[0;32m    338\u001b[0m         \u001b[0mend\u001b[0m \u001b[1;33m=\u001b[0m \u001b[0m_w\u001b[0m\u001b[1;33m(\u001b[0m\u001b[0ms\u001b[0m\u001b[1;33m,\u001b[0m \u001b[0mend\u001b[0m\u001b[1;33m)\u001b[0m\u001b[1;33m.\u001b[0m\u001b[0mend\u001b[0m\u001b[1;33m(\u001b[0m\u001b[1;33m)\u001b[0m\u001b[1;33m\u001b[0m\u001b[1;33m\u001b[0m\u001b[0m\n\u001b[0;32m    339\u001b[0m         \u001b[1;32mif\u001b[0m \u001b[0mend\u001b[0m \u001b[1;33m!=\u001b[0m \u001b[0mlen\u001b[0m\u001b[1;33m(\u001b[0m\u001b[0ms\u001b[0m\u001b[1;33m)\u001b[0m\u001b[1;33m:\u001b[0m\u001b[1;33m\u001b[0m\u001b[1;33m\u001b[0m\u001b[0m\n",
      "\u001b[1;32mC:\\Programdata\\Anaconda3\\lib\\json\\decoder.py\u001b[0m in \u001b[0;36mraw_decode\u001b[1;34m(self, s, idx)\u001b[0m\n\u001b[0;32m    351\u001b[0m         \"\"\"\n\u001b[0;32m    352\u001b[0m         \u001b[1;32mtry\u001b[0m\u001b[1;33m:\u001b[0m\u001b[1;33m\u001b[0m\u001b[1;33m\u001b[0m\u001b[0m\n\u001b[1;32m--> 353\u001b[1;33m             \u001b[0mobj\u001b[0m\u001b[1;33m,\u001b[0m \u001b[0mend\u001b[0m \u001b[1;33m=\u001b[0m \u001b[0mself\u001b[0m\u001b[1;33m.\u001b[0m\u001b[0mscan_once\u001b[0m\u001b[1;33m(\u001b[0m\u001b[0ms\u001b[0m\u001b[1;33m,\u001b[0m \u001b[0midx\u001b[0m\u001b[1;33m)\u001b[0m\u001b[1;33m\u001b[0m\u001b[1;33m\u001b[0m\u001b[0m\n\u001b[0m\u001b[0;32m    354\u001b[0m         \u001b[1;32mexcept\u001b[0m \u001b[0mStopIteration\u001b[0m \u001b[1;32mas\u001b[0m \u001b[0merr\u001b[0m\u001b[1;33m:\u001b[0m\u001b[1;33m\u001b[0m\u001b[1;33m\u001b[0m\u001b[0m\n\u001b[0;32m    355\u001b[0m             \u001b[1;32mraise\u001b[0m \u001b[0mJSONDecodeError\u001b[0m\u001b[1;33m(\u001b[0m\u001b[1;34m\"Expecting value\"\u001b[0m\u001b[1;33m,\u001b[0m \u001b[0ms\u001b[0m\u001b[1;33m,\u001b[0m \u001b[0merr\u001b[0m\u001b[1;33m.\u001b[0m\u001b[0mvalue\u001b[0m\u001b[1;33m)\u001b[0m \u001b[1;32mfrom\u001b[0m \u001b[1;32mNone\u001b[0m\u001b[1;33m\u001b[0m\u001b[1;33m\u001b[0m\u001b[0m\n",
      "\u001b[1;31mJSONDecodeError\u001b[0m: Expecting property name enclosed in double quotes: line 1 column 3 (char 2)"
     ]
    }
   ],
   "source": [
    "import json\n",
    "data_dict = df.to_dict()\n",
    "#app_json = json.dumps(data_dict)\n",
    "test1=data_dict['data'][0]\n",
    "dictionary_data = json.loads(test1)\n",
    "dictionary_data"
   ]
  },
  {
   "cell_type": "code",
   "execution_count": 11,
   "metadata": {},
   "outputs": [],
   "source": [
    "import pandas\n",
    "pandas.read_json(\"import.json\").to_csv(\"exceltest.csv\")"
   ]
  },
  {
   "cell_type": "code",
   "execution_count": 16,
   "metadata": {},
   "outputs": [
    {
     "ename": "NameError",
     "evalue": "name 'app' is not defined",
     "output_type": "error",
     "traceback": [
      "\u001b[1;31m---------------------------------------------------------------------------\u001b[0m",
      "\u001b[1;31mNameError\u001b[0m                                 Traceback (most recent call last)",
      "\u001b[1;32m<ipython-input-16-a3ea2f1fdc78>\u001b[0m in \u001b[0;36m<module>\u001b[1;34m\u001b[0m\n\u001b[0;32m      2\u001b[0m \u001b[0mdata_dict\u001b[0m \u001b[1;33m=\u001b[0m \u001b[0mdf\u001b[0m\u001b[1;33m.\u001b[0m\u001b[0mto_dict\u001b[0m\u001b[1;33m(\u001b[0m\u001b[1;33m)\u001b[0m\u001b[1;33m\u001b[0m\u001b[1;33m\u001b[0m\u001b[0m\n\u001b[0;32m      3\u001b[0m \u001b[0mapp_json\u001b[0m \u001b[1;33m=\u001b[0m \u001b[0mjson\u001b[0m\u001b[1;33m.\u001b[0m\u001b[0mdumps\u001b[0m\u001b[1;33m(\u001b[0m\u001b[0mdata_dict\u001b[0m\u001b[1;33m)\u001b[0m\u001b[1;33m\u001b[0m\u001b[1;33m\u001b[0m\u001b[0m\n\u001b[1;32m----> 4\u001b[1;33m \u001b[0mdata\u001b[0m\u001b[1;33m.\u001b[0m\u001b[0mjson\u001b[0m \u001b[1;33m=\u001b[0m \u001b[0mapp\u001b[0m\u001b[1;33m.\u001b[0m\u001b[0mjson\u001b[0m\u001b[1;33m\u001b[0m\u001b[1;33m\u001b[0m\u001b[0m\n\u001b[0m",
      "\u001b[1;31mNameError\u001b[0m: name 'app' is not defined"
     ]
    }
   ],
   "source": [
    "import json\n",
    "data_dict = df.to_dict()\n",
    "app_json = json.dumps(data_dict)\n",
    "data.json = app.json"
   ]
  },
  {
   "cell_type": "code",
   "execution_count": 9,
   "metadata": {},
   "outputs": [
    {
     "data": {
      "text/plain": [
       "{'{\"success\":true': {},\n",
       " 'data:{\"summary\":{\"total\":14792': {},\n",
       " 'confirmedCasesIndian:14716': {},\n",
       " 'confirmedCasesForeign:76': {},\n",
       " 'discharged:2015': {},\n",
       " 'deaths:488': {},\n",
       " 'confirmedButLocationUnidentified:0}': {},\n",
       " 'regional:[{\"loc\":\"Andaman and Nicobar Islands\"': {},\n",
       " 'confirmedCasesIndian:12': {},\n",
       " 'discharged:11': {},\n",
       " 'deaths:0': {},\n",
       " 'confirmedCasesForeign:0': {},\n",
       " 'totalConfirmed:12}': {},\n",
       " '{\"loc\":\"Andhra Pradesh\"': {},\n",
       " 'confirmedCasesIndian:603': {},\n",
       " 'discharged:42': {},\n",
       " 'deaths:15': {},\n",
       " 'confirmedCasesForeign:0.1': {},\n",
       " 'totalConfirmed:603}': {},\n",
       " '{\"loc\":\"Arunachal Pradesh\"': {},\n",
       " 'confirmedCasesIndian:1': {},\n",
       " 'discharged:0': {},\n",
       " 'deaths:0.1': {},\n",
       " 'confirmedCasesForeign:0.2': {},\n",
       " 'totalConfirmed:1}': {},\n",
       " '{\"loc\":\"Assam\"': {},\n",
       " 'confirmedCasesIndian:35': {},\n",
       " 'discharged:9': {},\n",
       " 'deaths:1': {},\n",
       " 'confirmedCasesForeign:0.3': {},\n",
       " 'totalConfirmed:35}': {},\n",
       " '{\"loc\":\"Bihar\"': {},\n",
       " 'confirmedCasesIndian:85': {},\n",
       " 'discharged:37': {},\n",
       " 'deaths:2': {},\n",
       " 'confirmedCasesForeign:0.4': {},\n",
       " 'totalConfirmed:85}': {},\n",
       " '{\"loc\":\"Chandigarh\"': {},\n",
       " 'confirmedCasesIndian:21': {},\n",
       " 'discharged:9.1': {},\n",
       " 'deaths:0.2': {},\n",
       " 'confirmedCasesForeign:0.5': {},\n",
       " 'totalConfirmed:21}': {},\n",
       " '{\"loc\":\"Chhattisgarh\"': {},\n",
       " 'confirmedCasesIndian:36': {},\n",
       " 'discharged:24': {},\n",
       " 'deaths:0.3': {},\n",
       " 'confirmedCasesForeign:0.6': {},\n",
       " 'totalConfirmed:36}': {},\n",
       " '{\"loc\":\"Delhi\"': {},\n",
       " 'confirmedCasesIndian:1706': {},\n",
       " 'discharged:72': {},\n",
       " 'deaths:42': {},\n",
       " 'confirmedCasesForeign:1': {},\n",
       " 'totalConfirmed:1707}': {},\n",
       " '{\"loc\":\"Goa\"': {},\n",
       " 'confirmedCasesIndian:6': {},\n",
       " 'discharged:6': {},\n",
       " 'deaths:0.4': {},\n",
       " 'confirmedCasesForeign:1.1': {},\n",
       " 'totalConfirmed:7}': {},\n",
       " '{\"loc\":\"Gujarat\"': {},\n",
       " 'confirmedCasesIndian:1271': {},\n",
       " 'discharged:88': {},\n",
       " 'deaths:48': {},\n",
       " 'confirmedCasesForeign:1.2': {},\n",
       " 'totalConfirmed:1272}': {},\n",
       " '{\"loc\":\"Haryana\"': {},\n",
       " 'confirmedCasesIndian:211': {},\n",
       " 'discharged:43': {},\n",
       " 'deaths:3': {},\n",
       " 'confirmedCasesForeign:14': {},\n",
       " 'totalConfirmed:225}': {},\n",
       " '{\"loc\":\"Himachal Pradesh\"': {},\n",
       " 'confirmedCasesIndian:38': {},\n",
       " 'discharged:16': {},\n",
       " 'deaths:1.1': {},\n",
       " 'confirmedCasesForeign:0.7': {},\n",
       " 'totalConfirmed:38}': {},\n",
       " '{\"loc\":\"Jammu and Kashmir\"': {},\n",
       " 'confirmedCasesIndian:328': {},\n",
       " 'discharged:42.1': {},\n",
       " 'deaths:5': {},\n",
       " 'confirmedCasesForeign:0.8': {},\n",
       " 'totalConfirmed:328}': {},\n",
       " '{\"loc\":\"Jharkhand\"': {},\n",
       " 'confirmedCasesIndian:33': {},\n",
       " 'discharged:0.1': {},\n",
       " 'deaths:2.1': {},\n",
       " 'confirmedCasesForeign:0.9': {},\n",
       " 'totalConfirmed:33}': {},\n",
       " '{\"loc\":\"Karnataka\"': {},\n",
       " 'confirmedCasesIndian:371': {},\n",
       " 'discharged:92': {},\n",
       " 'deaths:13': {},\n",
       " 'confirmedCasesForeign:0.10': {},\n",
       " 'totalConfirmed:371}': {},\n",
       " '{\"loc\":\"Kerala\"': {},\n",
       " 'confirmedCasesIndian:388': {},\n",
       " 'discharged:255': {},\n",
       " 'deaths:3.1': {},\n",
       " 'confirmedCasesForeign:8': {},\n",
       " 'totalConfirmed:396}': {},\n",
       " '{\"loc\":\"Ladakh\"': {},\n",
       " 'confirmedCasesIndian:18': {},\n",
       " 'discharged:14': {},\n",
       " 'deaths:0.5': {},\n",
       " 'confirmedCasesForeign:0.11': {},\n",
       " 'totalConfirmed:18}': {},\n",
       " '{\"loc\":\"Madhya Pradesh\"': {},\n",
       " 'confirmedCasesIndian:1355': {},\n",
       " 'discharged:69': {},\n",
       " 'deaths:69': {},\n",
       " 'confirmedCasesForeign:0.12': {},\n",
       " 'totalConfirmed:1355}': {},\n",
       " '{\"loc\":\"Maharashtra\"': {},\n",
       " 'confirmedCasesIndian:3320': {},\n",
       " 'discharged:331': {},\n",
       " 'deaths:201': {},\n",
       " 'confirmedCasesForeign:3': {},\n",
       " 'totalConfirmed:3323}': {},\n",
       " '{\"loc\":\"Manipur\"': {},\n",
       " 'confirmedCasesIndian:2': {},\n",
       " 'discharged:1': {},\n",
       " 'deaths:0.6': {},\n",
       " 'confirmedCasesForeign:0.13': {},\n",
       " 'totalConfirmed:2}': {},\n",
       " '{\"loc\":\"Meghalaya\"': {},\n",
       " 'confirmedCasesIndian:11': {},\n",
       " 'discharged:0.2': {},\n",
       " 'deaths:1.2': {},\n",
       " 'confirmedCasesForeign:0.14': {},\n",
       " 'totalConfirmed:11}': {},\n",
       " '{\"loc\":\"Mizoram\"': {},\n",
       " 'confirmedCasesIndian:1.1': {},\n",
       " 'discharged:0.3': {},\n",
       " 'deaths:0.7': {},\n",
       " 'confirmedCasesForeign:0.15': {},\n",
       " 'totalConfirmed:1}.1': {},\n",
       " '{\"loc\":\"Nagaland#\"': {},\n",
       " 'confirmedCasesIndian:0': {},\n",
       " 'discharged:0.4': {},\n",
       " 'deaths:0.8': {},\n",
       " 'confirmedCasesForeign:0.16': {},\n",
       " 'totalConfirmed:0}': {},\n",
       " '{\"loc\":\"Odisha\"': {},\n",
       " 'confirmedCasesIndian:60': {},\n",
       " 'discharged:21': {},\n",
       " 'deaths:1.3': {},\n",
       " 'confirmedCasesForeign:0.17': {},\n",
       " 'totalConfirmed:60}': {},\n",
       " '{\"loc\":\"Puducherry\"': {},\n",
       " 'confirmedCasesIndian:7': {},\n",
       " 'discharged:3': {},\n",
       " 'deaths:0.9': {},\n",
       " 'confirmedCasesForeign:0.18': {},\n",
       " 'totalConfirmed:7}.1': {},\n",
       " '{\"loc\":\"Punjab\"': {},\n",
       " 'confirmedCasesIndian:202': {},\n",
       " 'discharged:27': {},\n",
       " 'deaths:13.1': {},\n",
       " 'confirmedCasesForeign:0.19': {},\n",
       " 'totalConfirmed:202}': {},\n",
       " '{\"loc\":\"Rajasthan\"': {},\n",
       " 'confirmedCasesIndian:1227': {},\n",
       " 'discharged:183': {},\n",
       " 'deaths:11': {},\n",
       " 'confirmedCasesForeign:2': {},\n",
       " 'totalConfirmed:1229}': {},\n",
       " '{\"loc\":\"Tamil Nadu\"': {},\n",
       " 'confirmedCasesIndian:1317': {},\n",
       " 'discharged:283': {},\n",
       " 'deaths:15.1': {},\n",
       " 'confirmedCasesForeign:6': {},\n",
       " 'totalConfirmed:1323}': {},\n",
       " '{\"loc\":\"Telengana\"': {},\n",
       " 'confirmedCasesIndian:781': {},\n",
       " 'discharged:186': {},\n",
       " 'deaths:18': {},\n",
       " 'confirmedCasesForeign:10': {},\n",
       " 'totalConfirmed:791}': {},\n",
       " '{\"loc\":\"Tripura\"': {},\n",
       " 'confirmedCasesIndian:2.1': {},\n",
       " 'discharged:1.1': {},\n",
       " 'deaths:0.10': {},\n",
       " 'confirmedCasesForeign:0.20': {},\n",
       " 'totalConfirmed:2}.1': {},\n",
       " '{\"loc\":\"Uttarakhand\"': {},\n",
       " 'confirmedCasesIndian:41': {},\n",
       " 'discharged:9.2': {},\n",
       " 'deaths:0.11': {},\n",
       " 'confirmedCasesForeign:1.3': {},\n",
       " 'totalConfirmed:42}': {},\n",
       " '{\"loc\":\"Uttar Pradesh\"': {},\n",
       " 'confirmedCasesIndian:968': {},\n",
       " 'discharged:86': {},\n",
       " 'deaths:14': {},\n",
       " 'confirmedCasesForeign:1.4': {},\n",
       " 'totalConfirmed:969}': {},\n",
       " '{\"loc\":\"West Bengal\"': {},\n",
       " 'confirmedCasesIndian:287': {},\n",
       " 'discharged:55': {},\n",
       " 'deaths:10': {},\n",
       " 'confirmedCasesForeign:0.21': {},\n",
       " 'totalConfirmed:287}]}': {},\n",
       " 'lastRefreshed:\"2020-04-18T15:30:02.660Z\"': {},\n",
       " 'lastOriginUpdate:\"2020-04-18T11:30:00.000Z\"}': {}}"
      ]
     },
     "execution_count": 9,
     "metadata": {},
     "output_type": "execute_result"
    }
   ],
   "source": [
    "data_dict"
   ]
  },
  {
   "cell_type": "code",
   "execution_count": 5,
   "metadata": {},
   "outputs": [
    {
     "data": {
      "text/plain": [
       "'E:\\\\UPX\\\\Machine Learning\\\\Classification Problem\\\\Logistic Regerssion'"
      ]
     },
     "execution_count": 5,
     "metadata": {},
     "output_type": "execute_result"
    }
   ],
   "source": [
    "pwd"
   ]
  },
  {
   "cell_type": "code",
   "execution_count": null,
   "metadata": {},
   "outputs": [],
   "source": []
  }
 ],
 "metadata": {
  "kernelspec": {
   "display_name": "Python 3",
   "language": "python",
   "name": "python3"
  },
  "language_info": {
   "codemirror_mode": {
    "name": "ipython",
    "version": 3
   },
   "file_extension": ".py",
   "mimetype": "text/x-python",
   "name": "python",
   "nbconvert_exporter": "python",
   "pygments_lexer": "ipython3",
   "version": "3.7.4"
  },
  "toc": {
   "base_numbering": 1,
   "nav_menu": {},
   "number_sections": true,
   "sideBar": true,
   "skip_h1_title": false,
   "title_cell": "Table of Contents",
   "title_sidebar": "Contents",
   "toc_cell": false,
   "toc_position": {},
   "toc_section_display": true,
   "toc_window_display": false
  }
 },
 "nbformat": 4,
 "nbformat_minor": 4
}
